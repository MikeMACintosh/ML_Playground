{
 "cells": [
  {
   "cell_type": "code",
   "execution_count": 48,
   "metadata": {},
   "outputs": [],
   "source": [
    "import pandas as pd\n",
    "import numpy as np\n",
    "import matplotlib.pyplot as plt\n",
    "%matplotlib inline\n",
    "\n",
    "data = pd.read_csv('test_orders_info.csv', delimiter=';')"
   ]
  },
  {
   "cell_type": "code",
   "execution_count": 49,
   "metadata": {},
   "outputs": [
    {
     "data": {
      "text/html": [
       "<div>\n",
       "<style scoped>\n",
       "    .dataframe tbody tr th:only-of-type {\n",
       "        vertical-align: middle;\n",
       "    }\n",
       "\n",
       "    .dataframe tbody tr th {\n",
       "        vertical-align: top;\n",
       "    }\n",
       "\n",
       "    .dataframe thead th {\n",
       "        text-align: right;\n",
       "    }\n",
       "</style>\n",
       "<table border=\"1\" class=\"dataframe\">\n",
       "  <thead>\n",
       "    <tr style=\"text-align: right;\">\n",
       "      <th></th>\n",
       "      <th>order_date</th>\n",
       "      <th>org</th>\n",
       "      <th>order_id</th>\n",
       "      <th>material</th>\n",
       "      <th>inv_qty</th>\n",
       "      <th>rev</th>\n",
       "    </tr>\n",
       "  </thead>\n",
       "  <tbody>\n",
       "    <tr>\n",
       "      <th>0</th>\n",
       "      <td>20190801</td>\n",
       "      <td>1000</td>\n",
       "      <td>1009650752</td>\n",
       "      <td>3300030000</td>\n",
       "      <td>720.0</td>\n",
       "      <td>28080.00</td>\n",
       "    </tr>\n",
       "    <tr>\n",
       "      <th>1</th>\n",
       "      <td>20190801</td>\n",
       "      <td>1000</td>\n",
       "      <td>1009650752</td>\n",
       "      <td>7200859000</td>\n",
       "      <td>1.0</td>\n",
       "      <td>5037.00</td>\n",
       "    </tr>\n",
       "    <tr>\n",
       "      <th>2</th>\n",
       "      <td>20190801</td>\n",
       "      <td>1000</td>\n",
       "      <td>1009862550</td>\n",
       "      <td>7200859000</td>\n",
       "      <td>0.0</td>\n",
       "      <td>-2000.00</td>\n",
       "    </tr>\n",
       "    <tr>\n",
       "      <th>3</th>\n",
       "      <td>20190801</td>\n",
       "      <td>1000</td>\n",
       "      <td>1009924088</td>\n",
       "      <td>1500226000</td>\n",
       "      <td>864.0</td>\n",
       "      <td>165507.84</td>\n",
       "    </tr>\n",
       "    <tr>\n",
       "      <th>4</th>\n",
       "      <td>20190801</td>\n",
       "      <td>1000</td>\n",
       "      <td>1009924088</td>\n",
       "      <td>7200859000</td>\n",
       "      <td>2.0</td>\n",
       "      <td>24000.00</td>\n",
       "    </tr>\n",
       "  </tbody>\n",
       "</table>\n",
       "</div>"
      ],
      "text/plain": [
       "   order_date   org    order_id    material  inv_qty        rev\n",
       "0    20190801  1000  1009650752  3300030000    720.0   28080.00\n",
       "1    20190801  1000  1009650752  7200859000      1.0    5037.00\n",
       "2    20190801  1000  1009862550  7200859000      0.0   -2000.00\n",
       "3    20190801  1000  1009924088  1500226000    864.0  165507.84\n",
       "4    20190801  1000  1009924088  7200859000      2.0   24000.00"
      ]
     },
     "execution_count": 49,
     "metadata": {},
     "output_type": "execute_result"
    }
   ],
   "source": [
    "data.head()\n",
    "\n",
    "# Задание:  \n",
    "# Дана выгрузка заказов с позициями. Определить товары-\"якоря\"(основные) и дополнительные товары(сопутствующие).   \n",
    "# Формат результата:   \n",
    "# - список основных и сопутствующих товаров по всей выборке;   \n",
    "# - список основных и сопутствующих товаров по каждому городу.\n"
   ]
  },
  {
   "cell_type": "code",
   "execution_count": 50,
   "metadata": {},
   "outputs": [],
   "source": [
    "data['order_date'] = pd.to_datetime(data['order_date'], format='%Y%m%d')"
   ]
  },
  {
   "cell_type": "code",
   "execution_count": 51,
   "metadata": {
    "scrolled": true
   },
   "outputs": [
    {
     "data": {
      "text/html": [
       "<div>\n",
       "<style scoped>\n",
       "    .dataframe tbody tr th:only-of-type {\n",
       "        vertical-align: middle;\n",
       "    }\n",
       "\n",
       "    .dataframe tbody tr th {\n",
       "        vertical-align: top;\n",
       "    }\n",
       "\n",
       "    .dataframe thead th {\n",
       "        text-align: right;\n",
       "    }\n",
       "</style>\n",
       "<table border=\"1\" class=\"dataframe\">\n",
       "  <thead>\n",
       "    <tr style=\"text-align: right;\">\n",
       "      <th></th>\n",
       "      <th>order_date</th>\n",
       "      <th>org</th>\n",
       "      <th>order_id</th>\n",
       "      <th>material</th>\n",
       "      <th>inv_qty</th>\n",
       "      <th>rev</th>\n",
       "    </tr>\n",
       "  </thead>\n",
       "  <tbody>\n",
       "    <tr>\n",
       "      <th>0</th>\n",
       "      <td>2019-08-01</td>\n",
       "      <td>1000</td>\n",
       "      <td>1009650752</td>\n",
       "      <td>3300030000</td>\n",
       "      <td>720.0</td>\n",
       "      <td>28080.00</td>\n",
       "    </tr>\n",
       "    <tr>\n",
       "      <th>1</th>\n",
       "      <td>2019-08-01</td>\n",
       "      <td>1000</td>\n",
       "      <td>1009650752</td>\n",
       "      <td>7200859000</td>\n",
       "      <td>1.0</td>\n",
       "      <td>5037.00</td>\n",
       "    </tr>\n",
       "    <tr>\n",
       "      <th>2</th>\n",
       "      <td>2019-08-01</td>\n",
       "      <td>1000</td>\n",
       "      <td>1009862550</td>\n",
       "      <td>7200859000</td>\n",
       "      <td>0.0</td>\n",
       "      <td>-2000.00</td>\n",
       "    </tr>\n",
       "    <tr>\n",
       "      <th>3</th>\n",
       "      <td>2019-08-01</td>\n",
       "      <td>1000</td>\n",
       "      <td>1009924088</td>\n",
       "      <td>1500226000</td>\n",
       "      <td>864.0</td>\n",
       "      <td>165507.84</td>\n",
       "    </tr>\n",
       "    <tr>\n",
       "      <th>4</th>\n",
       "      <td>2019-08-01</td>\n",
       "      <td>1000</td>\n",
       "      <td>1009924088</td>\n",
       "      <td>7200859000</td>\n",
       "      <td>2.0</td>\n",
       "      <td>24000.00</td>\n",
       "    </tr>\n",
       "  </tbody>\n",
       "</table>\n",
       "</div>"
      ],
      "text/plain": [
       "  order_date   org    order_id    material  inv_qty        rev\n",
       "0 2019-08-01  1000  1009650752  3300030000    720.0   28080.00\n",
       "1 2019-08-01  1000  1009650752  7200859000      1.0    5037.00\n",
       "2 2019-08-01  1000  1009862550  7200859000      0.0   -2000.00\n",
       "3 2019-08-01  1000  1009924088  1500226000    864.0  165507.84\n",
       "4 2019-08-01  1000  1009924088  7200859000      2.0   24000.00"
      ]
     },
     "execution_count": 51,
     "metadata": {},
     "output_type": "execute_result"
    }
   ],
   "source": [
    "data.head()"
   ]
  },
  {
   "cell_type": "code",
   "execution_count": 52,
   "metadata": {},
   "outputs": [
    {
     "data": {
      "text/plain": [
       "(6051891, 6)"
      ]
     },
     "execution_count": 52,
     "metadata": {},
     "output_type": "execute_result"
    }
   ],
   "source": [
    "data.shape\n",
    "# Итого более 6 миллион строк и 6 столбцов"
   ]
  },
  {
   "cell_type": "code",
   "execution_count": 53,
   "metadata": {},
   "outputs": [
    {
     "data": {
      "text/plain": [
       "order_date    datetime64[ns]\n",
       "org                    int64\n",
       "order_id               int64\n",
       "material               int64\n",
       "inv_qty              float64\n",
       "rev                  float64\n",
       "dtype: object"
      ]
     },
     "execution_count": 53,
     "metadata": {},
     "output_type": "execute_result"
    }
   ],
   "source": [
    "data.dtypes\n"
   ]
  },
  {
   "cell_type": "raw",
   "metadata": {},
   "source": [
    "Интерпретация переменных:\n",
    "\n",
    "1) order_date - дата заказа;\n",
    "2) org - очень похоже на код ИФНС, то есть код налоговой, к которой относится бизнес еденица;\n",
    "3) order_id - идентификатор заказа;\n",
    "4) material - идентификатор товара;\n",
    "5) inv_qty - количество товара;\n",
    "6) rev(revenue) - выручка."
   ]
  },
  {
   "cell_type": "code",
   "execution_count": 54,
   "metadata": {},
   "outputs": [
    {
     "data": {
      "text/html": [
       "<div>\n",
       "<style scoped>\n",
       "    .dataframe tbody tr th:only-of-type {\n",
       "        vertical-align: middle;\n",
       "    }\n",
       "\n",
       "    .dataframe tbody tr th {\n",
       "        vertical-align: top;\n",
       "    }\n",
       "\n",
       "    .dataframe thead th {\n",
       "        text-align: right;\n",
       "    }\n",
       "</style>\n",
       "<table border=\"1\" class=\"dataframe\">\n",
       "  <thead>\n",
       "    <tr style=\"text-align: right;\">\n",
       "      <th></th>\n",
       "      <th>order_date</th>\n",
       "      <th>org</th>\n",
       "      <th>order_id</th>\n",
       "      <th>material</th>\n",
       "      <th>inv_qty</th>\n",
       "      <th>rev</th>\n",
       "    </tr>\n",
       "  </thead>\n",
       "  <tbody>\n",
       "    <tr>\n",
       "      <th>0</th>\n",
       "      <td>2019-08-01</td>\n",
       "      <td>1000</td>\n",
       "      <td>1009650752</td>\n",
       "      <td>3300030000</td>\n",
       "      <td>720.0</td>\n",
       "      <td>28080.00</td>\n",
       "    </tr>\n",
       "    <tr>\n",
       "      <th>1</th>\n",
       "      <td>2019-08-01</td>\n",
       "      <td>1000</td>\n",
       "      <td>1009650752</td>\n",
       "      <td>7200859000</td>\n",
       "      <td>1.0</td>\n",
       "      <td>5037.00</td>\n",
       "    </tr>\n",
       "    <tr>\n",
       "      <th>2</th>\n",
       "      <td>2019-08-01</td>\n",
       "      <td>1000</td>\n",
       "      <td>1009862550</td>\n",
       "      <td>7200859000</td>\n",
       "      <td>0.0</td>\n",
       "      <td>-2000.00</td>\n",
       "    </tr>\n",
       "    <tr>\n",
       "      <th>3</th>\n",
       "      <td>2019-08-01</td>\n",
       "      <td>1000</td>\n",
       "      <td>1009924088</td>\n",
       "      <td>1500226000</td>\n",
       "      <td>864.0</td>\n",
       "      <td>165507.84</td>\n",
       "    </tr>\n",
       "    <tr>\n",
       "      <th>4</th>\n",
       "      <td>2019-08-01</td>\n",
       "      <td>1000</td>\n",
       "      <td>1009924088</td>\n",
       "      <td>7200859000</td>\n",
       "      <td>2.0</td>\n",
       "      <td>24000.00</td>\n",
       "    </tr>\n",
       "  </tbody>\n",
       "</table>\n",
       "</div>"
      ],
      "text/plain": [
       "  order_date   org    order_id    material  inv_qty        rev\n",
       "0 2019-08-01  1000  1009650752  3300030000    720.0   28080.00\n",
       "1 2019-08-01  1000  1009650752  7200859000      1.0    5037.00\n",
       "2 2019-08-01  1000  1009862550  7200859000      0.0   -2000.00\n",
       "3 2019-08-01  1000  1009924088  1500226000    864.0  165507.84\n",
       "4 2019-08-01  1000  1009924088  7200859000      2.0   24000.00"
      ]
     },
     "execution_count": 54,
     "metadata": {},
     "output_type": "execute_result"
    }
   ],
   "source": [
    "data.head()"
   ]
  },
  {
   "cell_type": "raw",
   "metadata": {},
   "source": [
    "                                 1) Cписок основных и сопутствующих товаров по всей выборке"
   ]
  },
  {
   "cell_type": "code",
   "execution_count": 144,
   "metadata": {},
   "outputs": [],
   "source": [
    "data1 = data.groupby(['material'])['rev'].sum()\n",
    "df_material_rev = pd.DataFrame(data1)\n",
    "df_material_rev.reset_index(inplace=True)\n"
   ]
  },
  {
   "cell_type": "code",
   "execution_count": 145,
   "metadata": {},
   "outputs": [
    {
     "data": {
      "text/html": [
       "<div>\n",
       "<style scoped>\n",
       "    .dataframe tbody tr th:only-of-type {\n",
       "        vertical-align: middle;\n",
       "    }\n",
       "\n",
       "    .dataframe tbody tr th {\n",
       "        vertical-align: top;\n",
       "    }\n",
       "\n",
       "    .dataframe thead th {\n",
       "        text-align: right;\n",
       "    }\n",
       "</style>\n",
       "<table border=\"1\" class=\"dataframe\">\n",
       "  <thead>\n",
       "    <tr style=\"text-align: right;\">\n",
       "      <th></th>\n",
       "      <th>material</th>\n",
       "      <th>rev</th>\n",
       "    </tr>\n",
       "  </thead>\n",
       "  <tbody>\n",
       "    <tr>\n",
       "      <th>0</th>\n",
       "      <td>20000</td>\n",
       "      <td>78.85</td>\n",
       "    </tr>\n",
       "    <tr>\n",
       "      <th>1</th>\n",
       "      <td>23000</td>\n",
       "      <td>1929.00</td>\n",
       "    </tr>\n",
       "    <tr>\n",
       "      <th>2</th>\n",
       "      <td>33000</td>\n",
       "      <td>3362370.91</td>\n",
       "    </tr>\n",
       "    <tr>\n",
       "      <th>3</th>\n",
       "      <td>34000</td>\n",
       "      <td>1033331.87</td>\n",
       "    </tr>\n",
       "    <tr>\n",
       "      <th>4</th>\n",
       "      <td>45000</td>\n",
       "      <td>445810.40</td>\n",
       "    </tr>\n",
       "  </tbody>\n",
       "</table>\n",
       "</div>"
      ],
      "text/plain": [
       "   material         rev\n",
       "0     20000       78.85\n",
       "1     23000     1929.00\n",
       "2     33000  3362370.91\n",
       "3     34000  1033331.87\n",
       "4     45000   445810.40"
      ]
     },
     "execution_count": 145,
     "metadata": {},
     "output_type": "execute_result"
    }
   ],
   "source": [
    "df_material_rev.head()"
   ]
  },
  {
   "cell_type": "code",
   "execution_count": 147,
   "metadata": {},
   "outputs": [],
   "source": [
    "df_material_rev['part_%'] = (df_material_rev['rev']/df_material_rev['rev'].sum())*100\n",
    "# part_% - доля от общей выручки для каждого товара"
   ]
  },
  {
   "cell_type": "code",
   "execution_count": 148,
   "metadata": {},
   "outputs": [
    {
     "data": {
      "text/html": [
       "<div>\n",
       "<style scoped>\n",
       "    .dataframe tbody tr th:only-of-type {\n",
       "        vertical-align: middle;\n",
       "    }\n",
       "\n",
       "    .dataframe tbody tr th {\n",
       "        vertical-align: top;\n",
       "    }\n",
       "\n",
       "    .dataframe thead th {\n",
       "        text-align: right;\n",
       "    }\n",
       "</style>\n",
       "<table border=\"1\" class=\"dataframe\">\n",
       "  <thead>\n",
       "    <tr style=\"text-align: right;\">\n",
       "      <th></th>\n",
       "      <th>material</th>\n",
       "      <th>rev</th>\n",
       "      <th>part_%</th>\n",
       "    </tr>\n",
       "  </thead>\n",
       "  <tbody>\n",
       "    <tr>\n",
       "      <th>19138</th>\n",
       "      <td>7200859000</td>\n",
       "      <td>9.201600e+07</td>\n",
       "      <td>2.364122</td>\n",
       "    </tr>\n",
       "    <tr>\n",
       "      <th>711</th>\n",
       "      <td>200777000</td>\n",
       "      <td>6.478995e+07</td>\n",
       "      <td>1.664617</td>\n",
       "    </tr>\n",
       "    <tr>\n",
       "      <th>225</th>\n",
       "      <td>100596000</td>\n",
       "      <td>6.269456e+07</td>\n",
       "      <td>1.610781</td>\n",
       "    </tr>\n",
       "    <tr>\n",
       "      <th>3258</th>\n",
       "      <td>1100070000</td>\n",
       "      <td>3.568709e+07</td>\n",
       "      <td>0.916891</td>\n",
       "    </tr>\n",
       "    <tr>\n",
       "      <th>880</th>\n",
       "      <td>300313000</td>\n",
       "      <td>2.904796e+07</td>\n",
       "      <td>0.746315</td>\n",
       "    </tr>\n",
       "  </tbody>\n",
       "</table>\n",
       "</div>"
      ],
      "text/plain": [
       "         material           rev    part_%\n",
       "19138  7200859000  9.201600e+07  2.364122\n",
       "711     200777000  6.478995e+07  1.664617\n",
       "225     100596000  6.269456e+07  1.610781\n",
       "3258   1100070000  3.568709e+07  0.916891\n",
       "880     300313000  2.904796e+07  0.746315"
      ]
     },
     "execution_count": 148,
     "metadata": {},
     "output_type": "execute_result"
    }
   ],
   "source": [
    "df_material_rev.head()\n"
   ]
  },
  {
   "cell_type": "code",
   "execution_count": 150,
   "metadata": {},
   "outputs": [
    {
     "data": {
      "text/html": [
       "<div>\n",
       "<style scoped>\n",
       "    .dataframe tbody tr th:only-of-type {\n",
       "        vertical-align: middle;\n",
       "    }\n",
       "\n",
       "    .dataframe tbody tr th {\n",
       "        vertical-align: top;\n",
       "    }\n",
       "\n",
       "    .dataframe thead th {\n",
       "        text-align: right;\n",
       "    }\n",
       "</style>\n",
       "<table border=\"1\" class=\"dataframe\">\n",
       "  <thead>\n",
       "    <tr style=\"text-align: right;\">\n",
       "      <th></th>\n",
       "      <th>material</th>\n",
       "      <th>rev</th>\n",
       "      <th>part_%</th>\n",
       "    </tr>\n",
       "  </thead>\n",
       "  <tbody>\n",
       "    <tr>\n",
       "      <th>19138</th>\n",
       "      <td>7200859000</td>\n",
       "      <td>9.201600e+07</td>\n",
       "      <td>2.364122</td>\n",
       "    </tr>\n",
       "    <tr>\n",
       "      <th>711</th>\n",
       "      <td>200777000</td>\n",
       "      <td>6.478995e+07</td>\n",
       "      <td>1.664617</td>\n",
       "    </tr>\n",
       "    <tr>\n",
       "      <th>225</th>\n",
       "      <td>100596000</td>\n",
       "      <td>6.269456e+07</td>\n",
       "      <td>1.610781</td>\n",
       "    </tr>\n",
       "    <tr>\n",
       "      <th>3258</th>\n",
       "      <td>1100070000</td>\n",
       "      <td>3.568709e+07</td>\n",
       "      <td>0.916891</td>\n",
       "    </tr>\n",
       "    <tr>\n",
       "      <th>880</th>\n",
       "      <td>300313000</td>\n",
       "      <td>2.904796e+07</td>\n",
       "      <td>0.746315</td>\n",
       "    </tr>\n",
       "  </tbody>\n",
       "</table>\n",
       "</div>"
      ],
      "text/plain": [
       "         material           rev    part_%\n",
       "19138  7200859000  9.201600e+07  2.364122\n",
       "711     200777000  6.478995e+07  1.664617\n",
       "225     100596000  6.269456e+07  1.610781\n",
       "3258   1100070000  3.568709e+07  0.916891\n",
       "880     300313000  2.904796e+07  0.746315"
      ]
     },
     "execution_count": 150,
     "metadata": {},
     "output_type": "execute_result"
    }
   ],
   "source": [
    "df_material_rev = df_material_rev.sort_values(by='rev', ascending=False)\n",
    "df_material_rev.head()\n",
    "# Сортруем по выручке"
   ]
  },
  {
   "cell_type": "code",
   "execution_count": 151,
   "metadata": {},
   "outputs": [
    {
     "data": {
      "text/html": [
       "<div>\n",
       "<style scoped>\n",
       "    .dataframe tbody tr th:only-of-type {\n",
       "        vertical-align: middle;\n",
       "    }\n",
       "\n",
       "    .dataframe tbody tr th {\n",
       "        vertical-align: top;\n",
       "    }\n",
       "\n",
       "    .dataframe thead th {\n",
       "        text-align: right;\n",
       "    }\n",
       "</style>\n",
       "<table border=\"1\" class=\"dataframe\">\n",
       "  <thead>\n",
       "    <tr style=\"text-align: right;\">\n",
       "      <th></th>\n",
       "      <th>material</th>\n",
       "      <th>rev</th>\n",
       "      <th>part_%</th>\n",
       "      <th>comsum</th>\n",
       "    </tr>\n",
       "  </thead>\n",
       "  <tbody>\n",
       "    <tr>\n",
       "      <th>19138</th>\n",
       "      <td>7200859000</td>\n",
       "      <td>9.201600e+07</td>\n",
       "      <td>2.364122</td>\n",
       "      <td>2.364122</td>\n",
       "    </tr>\n",
       "    <tr>\n",
       "      <th>711</th>\n",
       "      <td>200777000</td>\n",
       "      <td>6.478995e+07</td>\n",
       "      <td>1.664617</td>\n",
       "      <td>4.028739</td>\n",
       "    </tr>\n",
       "    <tr>\n",
       "      <th>225</th>\n",
       "      <td>100596000</td>\n",
       "      <td>6.269456e+07</td>\n",
       "      <td>1.610781</td>\n",
       "      <td>5.639520</td>\n",
       "    </tr>\n",
       "    <tr>\n",
       "      <th>3258</th>\n",
       "      <td>1100070000</td>\n",
       "      <td>3.568709e+07</td>\n",
       "      <td>0.916891</td>\n",
       "      <td>6.556411</td>\n",
       "    </tr>\n",
       "    <tr>\n",
       "      <th>880</th>\n",
       "      <td>300313000</td>\n",
       "      <td>2.904796e+07</td>\n",
       "      <td>0.746315</td>\n",
       "      <td>7.302726</td>\n",
       "    </tr>\n",
       "  </tbody>\n",
       "</table>\n",
       "</div>"
      ],
      "text/plain": [
       "         material           rev    part_%    comsum\n",
       "19138  7200859000  9.201600e+07  2.364122  2.364122\n",
       "711     200777000  6.478995e+07  1.664617  4.028739\n",
       "225     100596000  6.269456e+07  1.610781  5.639520\n",
       "3258   1100070000  3.568709e+07  0.916891  6.556411\n",
       "880     300313000  2.904796e+07  0.746315  7.302726"
      ]
     },
     "execution_count": 151,
     "metadata": {},
     "output_type": "execute_result"
    }
   ],
   "source": [
    "# Добавлю столбец с накопленной суммой процента выручки и построю график, с помошью которого определю, \n",
    "# в какой момент рост выручки замедляется.\n",
    "\n",
    "df_material_rev['comsum'] = df_material_rev['part_%'].cumsum()\n",
    "df_material_rev.head()"
   ]
  },
  {
   "cell_type": "code",
   "execution_count": 152,
   "metadata": {},
   "outputs": [
    {
     "data": {
      "image/png": "[encoded data removed]",
      "text/plain": [
       "<Figure size 432x288 with 1 Axes>"
      ]
     },
     "metadata": {
      "needs_background": "light"
     },
     "output_type": "display_data"
    }
   ],
   "source": [
    "x = [i for i in range(len(df_material_rev))]\n",
    "plt.plot(x, df_material_rev['comsum'])\n",
    "plt.xlabel('Количество товара, шт')\n",
    "plt.ylabel('Накопленная сумма выручки, %')\n",
    "plt.title('Вся выборка')\n",
    "plt.savefig('all.jpg')\n",
    "\n",
    "# Увиденное на графике легко объяснить - относительно небольшое количество основных товаров вносят большой вклад в общую выручку,\n",
    "# в то время как большинство товаров составляют оставшиеся 20% выручки.\n",
    "# Видно, что % суммы выручки стремительно растет примерно до 80%, что соответствует порядка 2100 товарам."
   ]
  },
  {
   "cell_type": "raw",
   "metadata": {},
   "source": [
    "Здесь и далее основными считаются первые n-товаров, \n",
    "которые при сортировке по убыванию суммарной выручки, вносимой каждым товаром, составляют 80% всей выручки."
   ]
  },
  {
   "cell_type": "code",
   "execution_count": 62,
   "metadata": {},
   "outputs": [],
   "source": [
    "firstn_all = df_material_rev.head(2100) \n",
    "lastn = df_material_rev.tail(19328) \n",
    "# 19328 полученио как общее число товаров минус количество основных товаров, то есть 21428 - 2100 = 19 328"
   ]
  },
  {
   "cell_type": "code",
   "execution_count": 63,
   "metadata": {},
   "outputs": [
    {
     "data": {
      "text/plain": [
       "80.3093756806536"
      ]
     },
     "execution_count": 63,
     "metadata": {},
     "output_type": "execute_result"
    }
   ],
   "source": [
    "firstn_all['part_%'].sum() # % выручки от основных товаров(первых 2100 товаров)"
   ]
  },
  {
   "cell_type": "code",
   "execution_count": 153,
   "metadata": {},
   "outputs": [
    {
     "data": {
      "text/plain": [
       "19.690624319346387"
      ]
     },
     "execution_count": 153,
     "metadata": {},
     "output_type": "execute_result"
    }
   ],
   "source": [
    "lastn['part_%'].sum() # % выручки от сопутствующих товаров(последних 19328 товаров)"
   ]
  },
  {
   "cell_type": "code",
   "execution_count": 65,
   "metadata": {},
   "outputs": [
    {
     "data": {
      "text/plain": [
       "19138    7200859000\n",
       "711       200777000\n",
       "225       100596000\n",
       "3258     1100070000\n",
       "880       300313000\n",
       "Name: material, dtype: int64"
      ]
     },
     "execution_count": 65,
     "metadata": {},
     "output_type": "execute_result"
    }
   ],
   "source": [
    "# 2100 товаров-якорей, приносящих 80% всей выручки\n",
    "main_all = pd.Series(firstn_all['material'])\n",
    "main_all.head()"
   ]
  },
  {
   "cell_type": "code",
   "execution_count": 66,
   "metadata": {},
   "outputs": [
    {
     "data": {
      "text/plain": [
       "5155     1900021000\n",
       "6803     2800103000\n",
       "13324    5000018001\n",
       "2272      800814000\n",
       "5055     1800562000\n",
       "Name: material, dtype: int64"
      ]
     },
     "execution_count": 66,
     "metadata": {},
     "output_type": "execute_result"
    }
   ],
   "source": [
    "# Сопутствующие товары, приносящие 20% всей выручки\n",
    "other_all = pd.Series(lastn['material'])\n",
    "other_all.head()"
   ]
  },
  {
   "cell_type": "raw",
   "metadata": {},
   "source": [
    "                                    Небольшой блок по анализу цен по всей выборке"
   ]
  },
  {
   "cell_type": "code",
   "execution_count": 154,
   "metadata": {},
   "outputs": [],
   "source": [
    "data2 = data[['material', 'rev', 'inv_qty']]\n",
    "df_material_rev_qty = pd.DataFrame(data2)\n",
    "df_material_rev_qty = df_material_rev_qty.groupby(['material'], as_index=False).sum(['rev', 'inv_qty'])\n",
    "# Группировка по товару и подсчет количества едениц и выручки"
   ]
  },
  {
   "cell_type": "code",
   "execution_count": 159,
   "metadata": {},
   "outputs": [
    {
     "data": {
      "text/html": [
       "<div>\n",
       "<style scoped>\n",
       "    .dataframe tbody tr th:only-of-type {\n",
       "        vertical-align: middle;\n",
       "    }\n",
       "\n",
       "    .dataframe tbody tr th {\n",
       "        vertical-align: top;\n",
       "    }\n",
       "\n",
       "    .dataframe thead th {\n",
       "        text-align: right;\n",
       "    }\n",
       "</style>\n",
       "<table border=\"1\" class=\"dataframe\">\n",
       "  <thead>\n",
       "    <tr style=\"text-align: right;\">\n",
       "      <th></th>\n",
       "      <th>material</th>\n",
       "      <th>rev</th>\n",
       "      <th>inv_qty</th>\n",
       "      <th>price</th>\n",
       "      <th>part_%</th>\n",
       "    </tr>\n",
       "  </thead>\n",
       "  <tbody>\n",
       "    <tr>\n",
       "      <th>202</th>\n",
       "      <td>100503000</td>\n",
       "      <td>21.0</td>\n",
       "      <td>0.0</td>\n",
       "      <td>inf</td>\n",
       "      <td>5.395428e-07</td>\n",
       "    </tr>\n",
       "    <tr>\n",
       "      <th>12500</th>\n",
       "      <td>4600535001</td>\n",
       "      <td>160000.0</td>\n",
       "      <td>1.0</td>\n",
       "      <td>160000.0</td>\n",
       "      <td>4.110802e-03</td>\n",
       "    </tr>\n",
       "    <tr>\n",
       "      <th>12696</th>\n",
       "      <td>4700332000</td>\n",
       "      <td>146800.0</td>\n",
       "      <td>1.0</td>\n",
       "      <td>146800.0</td>\n",
       "      <td>3.771661e-03</td>\n",
       "    </tr>\n",
       "    <tr>\n",
       "      <th>10638</th>\n",
       "      <td>4200032000</td>\n",
       "      <td>284230.0</td>\n",
       "      <td>2.0</td>\n",
       "      <td>142115.0</td>\n",
       "      <td>7.302583e-03</td>\n",
       "    </tr>\n",
       "    <tr>\n",
       "      <th>10587</th>\n",
       "      <td>4100905000</td>\n",
       "      <td>519260.0</td>\n",
       "      <td>4.0</td>\n",
       "      <td>129815.0</td>\n",
       "      <td>1.334109e-02</td>\n",
       "    </tr>\n",
       "  </tbody>\n",
       "</table>\n",
       "</div>"
      ],
      "text/plain": [
       "         material       rev  inv_qty     price        part_%\n",
       "202     100503000      21.0      0.0       inf  5.395428e-07\n",
       "12500  4600535001  160000.0      1.0  160000.0  4.110802e-03\n",
       "12696  4700332000  146800.0      1.0  146800.0  3.771661e-03\n",
       "10638  4200032000  284230.0      2.0  142115.0  7.302583e-03\n",
       "10587  4100905000  519260.0      4.0  129815.0  1.334109e-02"
      ]
     },
     "execution_count": 159,
     "metadata": {},
     "output_type": "execute_result"
    }
   ],
   "source": [
    "df_material_rev_qty['price'] = df_material_rev_qty['rev']/df_material_rev_qty['inv_qty']\n",
    "df_material_rev_qty.head()\n",
    "# Добавим столбец с ценой"
   ]
  },
  {
   "cell_type": "code",
   "execution_count": 156,
   "metadata": {},
   "outputs": [
    {
     "data": {
      "text/plain": [
       "count    2.142600e+04\n",
       "mean              inf\n",
       "std               NaN\n",
       "min      0.000000e+00\n",
       "25%      7.984209e+01\n",
       "50%      2.480200e+02\n",
       "75%      7.996506e+02\n",
       "max               inf\n",
       "Name: price, dtype: float64"
      ]
     },
     "execution_count": 156,
     "metadata": {},
     "output_type": "execute_result"
    }
   ],
   "source": [
    "df_material_rev_qty['part_%'] = (df_material_rev_qty['rev']/df_material_rev_qty['rev'].sum())*100\n",
    "df_material_rev_qty = df_material_rev_qty.sort_values(by='price', ascending=False)\n",
    "\n",
    "df_material_rev_qty['price'].describe()\n",
    "\n",
    "# 75% ассортимента стоит менее 800 у.е."
   ]
  },
  {
   "cell_type": "code",
   "execution_count": 157,
   "metadata": {},
   "outputs": [
    {
     "data": {
      "text/plain": [
       "count    2.000000e+03\n",
       "mean              inf\n",
       "std               NaN\n",
       "min      3.500000e+03\n",
       "25%      4.769375e+03\n",
       "50%      7.267654e+03\n",
       "75%      1.311499e+04\n",
       "max               inf\n",
       "Name: price, dtype: float64"
      ]
     },
     "execution_count": 157,
     "metadata": {},
     "output_type": "execute_result"
    }
   ],
   "source": [
    "a = df_material_rev_qty.head(2000)\n",
    "a['price'].describe()"
   ]
  },
  {
   "cell_type": "code",
   "execution_count": 164,
   "metadata": {},
   "outputs": [
    {
     "name": "stdout",
     "output_type": "stream",
     "text": [
      "6.346376718308564 % выручки приносят 2000 самых дорогих товаров.\n"
     ]
    }
   ],
   "source": [
    "tmp = df_material_rev_qty.head(2000)\n",
    "rev = tmp['part_%'].sum()\n",
    "print(f'{rev} % выручки приносят 2000 самых дорогих товаров.')\n",
    "\n",
    "# Первые 2000 самых дорогих товаров вносят всего 6.3% в общую выручку!\n",
    "# Выявлено, что основную массу покупаемых товаров составляют недорогие единицы, которые приносят бОльшую часть выручки, \n",
    "# в то время как дорогие и очень дорогие товары вносят сравнительно небольшой процент в итоговую выручку."
   ]
  },
  {
   "cell_type": "code",
   "execution_count": null,
   "metadata": {},
   "outputs": [],
   "source": []
  },
  {
   "cell_type": "raw",
   "metadata": {},
   "source": [
    "                               2) Cписок основных и сопутствующих товаров по каждому городу"
   ]
  },
  {
   "cell_type": "code",
   "execution_count": 72,
   "metadata": {
    "scrolled": true
   },
   "outputs": [
    {
     "data": {
      "text/html": [
       "<div>\n",
       "<style scoped>\n",
       "    .dataframe tbody tr th:only-of-type {\n",
       "        vertical-align: middle;\n",
       "    }\n",
       "\n",
       "    .dataframe tbody tr th {\n",
       "        vertical-align: top;\n",
       "    }\n",
       "\n",
       "    .dataframe thead th {\n",
       "        text-align: right;\n",
       "    }\n",
       "</style>\n",
       "<table border=\"1\" class=\"dataframe\">\n",
       "  <thead>\n",
       "    <tr style=\"text-align: right;\">\n",
       "      <th></th>\n",
       "      <th>order_date</th>\n",
       "      <th>org</th>\n",
       "      <th>order_id</th>\n",
       "      <th>material</th>\n",
       "      <th>inv_qty</th>\n",
       "      <th>rev</th>\n",
       "    </tr>\n",
       "  </thead>\n",
       "  <tbody>\n",
       "    <tr>\n",
       "      <th>0</th>\n",
       "      <td>2019-08-01</td>\n",
       "      <td>1000</td>\n",
       "      <td>1009650752</td>\n",
       "      <td>3300030000</td>\n",
       "      <td>720.0</td>\n",
       "      <td>28080.00</td>\n",
       "    </tr>\n",
       "    <tr>\n",
       "      <th>1</th>\n",
       "      <td>2019-08-01</td>\n",
       "      <td>1000</td>\n",
       "      <td>1009650752</td>\n",
       "      <td>7200859000</td>\n",
       "      <td>1.0</td>\n",
       "      <td>5037.00</td>\n",
       "    </tr>\n",
       "    <tr>\n",
       "      <th>2</th>\n",
       "      <td>2019-08-01</td>\n",
       "      <td>1000</td>\n",
       "      <td>1009862550</td>\n",
       "      <td>7200859000</td>\n",
       "      <td>0.0</td>\n",
       "      <td>-2000.00</td>\n",
       "    </tr>\n",
       "    <tr>\n",
       "      <th>3</th>\n",
       "      <td>2019-08-01</td>\n",
       "      <td>1000</td>\n",
       "      <td>1009924088</td>\n",
       "      <td>1500226000</td>\n",
       "      <td>864.0</td>\n",
       "      <td>165507.84</td>\n",
       "    </tr>\n",
       "    <tr>\n",
       "      <th>4</th>\n",
       "      <td>2019-08-01</td>\n",
       "      <td>1000</td>\n",
       "      <td>1009924088</td>\n",
       "      <td>7200859000</td>\n",
       "      <td>2.0</td>\n",
       "      <td>24000.00</td>\n",
       "    </tr>\n",
       "  </tbody>\n",
       "</table>\n",
       "</div>"
      ],
      "text/plain": [
       "  order_date   org    order_id    material  inv_qty        rev\n",
       "0 2019-08-01  1000  1009650752  3300030000    720.0   28080.00\n",
       "1 2019-08-01  1000  1009650752  7200859000      1.0    5037.00\n",
       "2 2019-08-01  1000  1009862550  7200859000      0.0   -2000.00\n",
       "3 2019-08-01  1000  1009924088  1500226000    864.0  165507.84\n",
       "4 2019-08-01  1000  1009924088  7200859000      2.0   24000.00"
      ]
     },
     "execution_count": 72,
     "metadata": {},
     "output_type": "execute_result"
    }
   ],
   "source": [
    "data.head()"
   ]
  },
  {
   "cell_type": "code",
   "execution_count": 165,
   "metadata": {},
   "outputs": [],
   "source": [
    "region_distribution = pd.DataFrame(data=data, columns=['org', 'material', 'inv_qty', 'rev'])\n",
    "region_distribution.head()\n",
    "\n",
    "region_distribution = region_distribution.groupby(['material', 'org'], as_index=False).sum(['rev', 'inv_qty'])\n",
    "\n",
    "# Группируем по товару и региону, суммируем по количеству товара и прибыли\n"
   ]
  },
  {
   "cell_type": "code",
   "execution_count": 74,
   "metadata": {},
   "outputs": [
    {
     "data": {
      "text/html": [
       "<div>\n",
       "<style scoped>\n",
       "    .dataframe tbody tr th:only-of-type {\n",
       "        vertical-align: middle;\n",
       "    }\n",
       "\n",
       "    .dataframe tbody tr th {\n",
       "        vertical-align: top;\n",
       "    }\n",
       "\n",
       "    .dataframe thead th {\n",
       "        text-align: right;\n",
       "    }\n",
       "</style>\n",
       "<table border=\"1\" class=\"dataframe\">\n",
       "  <thead>\n",
       "    <tr style=\"text-align: right;\">\n",
       "      <th></th>\n",
       "      <th>material</th>\n",
       "      <th>org</th>\n",
       "      <th>inv_qty</th>\n",
       "      <th>rev</th>\n",
       "    </tr>\n",
       "  </thead>\n",
       "  <tbody>\n",
       "    <tr>\n",
       "      <th>0</th>\n",
       "      <td>20000</td>\n",
       "      <td>3000</td>\n",
       "      <td>1.0</td>\n",
       "      <td>78.85</td>\n",
       "    </tr>\n",
       "    <tr>\n",
       "      <th>1</th>\n",
       "      <td>23000</td>\n",
       "      <td>1000</td>\n",
       "      <td>7.0</td>\n",
       "      <td>1929.00</td>\n",
       "    </tr>\n",
       "    <tr>\n",
       "      <th>2</th>\n",
       "      <td>33000</td>\n",
       "      <td>1000</td>\n",
       "      <td>368.0</td>\n",
       "      <td>975469.46</td>\n",
       "    </tr>\n",
       "    <tr>\n",
       "      <th>3</th>\n",
       "      <td>33000</td>\n",
       "      <td>2000</td>\n",
       "      <td>373.0</td>\n",
       "      <td>1031293.13</td>\n",
       "    </tr>\n",
       "    <tr>\n",
       "      <th>4</th>\n",
       "      <td>33000</td>\n",
       "      <td>3000</td>\n",
       "      <td>248.0</td>\n",
       "      <td>650039.86</td>\n",
       "    </tr>\n",
       "  </tbody>\n",
       "</table>\n",
       "</div>"
      ],
      "text/plain": [
       "   material   org  inv_qty         rev\n",
       "0     20000  3000      1.0       78.85\n",
       "1     23000  1000      7.0     1929.00\n",
       "2     33000  1000    368.0   975469.46\n",
       "3     33000  2000    373.0  1031293.13\n",
       "4     33000  3000    248.0   650039.86"
      ]
     },
     "execution_count": 74,
     "metadata": {},
     "output_type": "execute_result"
    }
   ],
   "source": [
    "region_distribution.head()"
   ]
  },
  {
   "cell_type": "code",
   "execution_count": 166,
   "metadata": {},
   "outputs": [
    {
     "data": {
      "text/plain": [
       "1000    16872\n",
       "2000    11890\n",
       "3000    11383\n",
       "4001     7202\n",
       "7000     3975\n",
       "Name: org, dtype: int64"
      ]
     },
     "execution_count": 166,
     "metadata": {},
     "output_type": "execute_result"
    }
   ],
   "source": [
    "stat = region_distribution['org'].value_counts()\n",
    "stat\n",
    "\n",
    "# Посмотрим, сколько различных товаров купили в каждом городе\n"
   ]
  },
  {
   "cell_type": "raw",
   "metadata": {},
   "source": [
    "                                                    1) org = 1000"
   ]
  },
  {
   "cell_type": "code",
   "execution_count": 76,
   "metadata": {},
   "outputs": [
    {
     "name": "stderr",
     "output_type": "stream",
     "text": [
      "<ipython-input-76-9919e78ff78d>:4: SettingWithCopyWarning: \n",
      "A value is trying to be set on a copy of a slice from a DataFrame.\n",
      "Try using .loc[row_indexer,col_indexer] = value instead\n",
      "\n",
      "See the caveats in the documentation: https://pandas.pydata.org/pandas-docs/stable/user_guide/indexing.html#returning-a-view-versus-a-copy\n",
      "  region_1000['part_%'] = (region_1000['rev']/region_1000['rev'].sum())*100\n"
     ]
    }
   ],
   "source": [
    "# Под кодом ИФНС = 1000 лежат данные по Республике Карелия\n",
    "\n",
    "region_1000 = region_distribution.loc[region_distribution['org'] == 1000]\n",
    "region_1000['part_%'] = (region_1000['rev']/region_1000['rev'].sum())*100\n",
    "region_1000 = region_1000.sort_values(by='part_%', ascending=False)\n",
    "\n",
    "# Выберем данные только с org = 1000, добавим столбец с долей выручки и отсортруем по нему."
   ]
  },
  {
   "cell_type": "code",
   "execution_count": 77,
   "metadata": {},
   "outputs": [
    {
     "data": {
      "text/html": [
       "<div>\n",
       "<style scoped>\n",
       "    .dataframe tbody tr th:only-of-type {\n",
       "        vertical-align: middle;\n",
       "    }\n",
       "\n",
       "    .dataframe tbody tr th {\n",
       "        vertical-align: top;\n",
       "    }\n",
       "\n",
       "    .dataframe thead th {\n",
       "        text-align: right;\n",
       "    }\n",
       "</style>\n",
       "<table border=\"1\" class=\"dataframe\">\n",
       "  <thead>\n",
       "    <tr style=\"text-align: right;\">\n",
       "      <th></th>\n",
       "      <th>material</th>\n",
       "      <th>org</th>\n",
       "      <th>inv_qty</th>\n",
       "      <th>rev</th>\n",
       "      <th>part_%</th>\n",
       "    </tr>\n",
       "  </thead>\n",
       "  <tbody>\n",
       "    <tr>\n",
       "      <th>1975</th>\n",
       "      <td>200777000</td>\n",
       "      <td>1000</td>\n",
       "      <td>184494.0</td>\n",
       "      <td>5.572187e+07</td>\n",
       "      <td>2.507546</td>\n",
       "    </tr>\n",
       "    <tr>\n",
       "      <th>46803</th>\n",
       "      <td>7200859000</td>\n",
       "      <td>1000</td>\n",
       "      <td>49249.0</td>\n",
       "      <td>4.915350e+07</td>\n",
       "      <td>2.211962</td>\n",
       "    </tr>\n",
       "    <tr>\n",
       "      <th>612</th>\n",
       "      <td>100596000</td>\n",
       "      <td>1000</td>\n",
       "      <td>84998.0</td>\n",
       "      <td>3.413431e+07</td>\n",
       "      <td>1.536082</td>\n",
       "    </tr>\n",
       "    <tr>\n",
       "      <th>2408</th>\n",
       "      <td>300313000</td>\n",
       "      <td>1000</td>\n",
       "      <td>15468.0</td>\n",
       "      <td>2.302227e+07</td>\n",
       "      <td>1.036028</td>\n",
       "    </tr>\n",
       "    <tr>\n",
       "      <th>9039</th>\n",
       "      <td>1100070000</td>\n",
       "      <td>1000</td>\n",
       "      <td>34852.0</td>\n",
       "      <td>1.948595e+07</td>\n",
       "      <td>0.876889</td>\n",
       "    </tr>\n",
       "  </tbody>\n",
       "</table>\n",
       "</div>"
      ],
      "text/plain": [
       "         material   org   inv_qty           rev    part_%\n",
       "1975    200777000  1000  184494.0  5.572187e+07  2.507546\n",
       "46803  7200859000  1000   49249.0  4.915350e+07  2.211962\n",
       "612     100596000  1000   84998.0  3.413431e+07  1.536082\n",
       "2408    300313000  1000   15468.0  2.302227e+07  1.036028\n",
       "9039   1100070000  1000   34852.0  1.948595e+07  0.876889"
      ]
     },
     "execution_count": 77,
     "metadata": {},
     "output_type": "execute_result"
    }
   ],
   "source": [
    "region_1000.head() "
   ]
  },
  {
   "cell_type": "code",
   "execution_count": 78,
   "metadata": {},
   "outputs": [
    {
     "data": {
      "text/plain": [
       "80.37078987227073"
      ]
     },
     "execution_count": 78,
     "metadata": {},
     "output_type": "execute_result"
    }
   ],
   "source": [
    "firstn_1000region = region_1000.head(2000)\n",
    "firstn_1000region['part_%'].sum()"
   ]
  },
  {
   "cell_type": "code",
   "execution_count": 79,
   "metadata": {},
   "outputs": [
    {
     "data": {
      "text/html": [
       "<div>\n",
       "<style scoped>\n",
       "    .dataframe tbody tr th:only-of-type {\n",
       "        vertical-align: middle;\n",
       "    }\n",
       "\n",
       "    .dataframe tbody tr th {\n",
       "        vertical-align: top;\n",
       "    }\n",
       "\n",
       "    .dataframe thead th {\n",
       "        text-align: right;\n",
       "    }\n",
       "</style>\n",
       "<table border=\"1\" class=\"dataframe\">\n",
       "  <thead>\n",
       "    <tr style=\"text-align: right;\">\n",
       "      <th></th>\n",
       "      <th>material</th>\n",
       "      <th>org</th>\n",
       "      <th>inv_qty</th>\n",
       "      <th>rev</th>\n",
       "      <th>part_%</th>\n",
       "      <th>comsum</th>\n",
       "    </tr>\n",
       "  </thead>\n",
       "  <tbody>\n",
       "    <tr>\n",
       "      <th>1975</th>\n",
       "      <td>200777000</td>\n",
       "      <td>1000</td>\n",
       "      <td>184494.0</td>\n",
       "      <td>5.572187e+07</td>\n",
       "      <td>2.507546</td>\n",
       "      <td>2.507546</td>\n",
       "    </tr>\n",
       "    <tr>\n",
       "      <th>46803</th>\n",
       "      <td>7200859000</td>\n",
       "      <td>1000</td>\n",
       "      <td>49249.0</td>\n",
       "      <td>4.915350e+07</td>\n",
       "      <td>2.211962</td>\n",
       "      <td>4.719509</td>\n",
       "    </tr>\n",
       "    <tr>\n",
       "      <th>612</th>\n",
       "      <td>100596000</td>\n",
       "      <td>1000</td>\n",
       "      <td>84998.0</td>\n",
       "      <td>3.413431e+07</td>\n",
       "      <td>1.536082</td>\n",
       "      <td>6.255591</td>\n",
       "    </tr>\n",
       "    <tr>\n",
       "      <th>2408</th>\n",
       "      <td>300313000</td>\n",
       "      <td>1000</td>\n",
       "      <td>15468.0</td>\n",
       "      <td>2.302227e+07</td>\n",
       "      <td>1.036028</td>\n",
       "      <td>7.291618</td>\n",
       "    </tr>\n",
       "    <tr>\n",
       "      <th>9039</th>\n",
       "      <td>1100070000</td>\n",
       "      <td>1000</td>\n",
       "      <td>34852.0</td>\n",
       "      <td>1.948595e+07</td>\n",
       "      <td>0.876889</td>\n",
       "      <td>8.168508</td>\n",
       "    </tr>\n",
       "  </tbody>\n",
       "</table>\n",
       "</div>"
      ],
      "text/plain": [
       "         material   org   inv_qty           rev    part_%    comsum\n",
       "1975    200777000  1000  184494.0  5.572187e+07  2.507546  2.507546\n",
       "46803  7200859000  1000   49249.0  4.915350e+07  2.211962  4.719509\n",
       "612     100596000  1000   84998.0  3.413431e+07  1.536082  6.255591\n",
       "2408    300313000  1000   15468.0  2.302227e+07  1.036028  7.291618\n",
       "9039   1100070000  1000   34852.0  1.948595e+07  0.876889  8.168508"
      ]
     },
     "execution_count": 79,
     "metadata": {},
     "output_type": "execute_result"
    }
   ],
   "source": [
    "region_1000['comsum'] = region_1000['part_%'].cumsum()\n",
    "region_1000.head()"
   ]
  },
  {
   "cell_type": "code",
   "execution_count": 140,
   "metadata": {},
   "outputs": [
    {
     "data": {
      "image/png": "[encoded data removed]",
      "text/plain": [
       "<Figure size 432x288 with 1 Axes>"
      ]
     },
     "metadata": {
      "needs_background": "light"
     },
     "output_type": "display_data"
    }
   ],
   "source": [
    "x = [i for i in range(len(region_1000))]\n",
    "plt.plot(x, region_1000['comsum'])\n",
    "plt.xlabel('Количество товара, шт')\n",
    "plt.ylabel('Накопленная сумма выручки, %')\n",
    "plt.title('org=1000')\n",
    "plt.savefig('1000_cumsum.jpg')\n",
    "\n",
    "# Видно, что % суммы выручки стремительно растет примерно до 80%, что соответствует порядка 2000 товаров."
   ]
  },
  {
   "cell_type": "code",
   "execution_count": 81,
   "metadata": {},
   "outputs": [
    {
     "data": {
      "text/plain": [
       "1975      200777000\n",
       "46803    7200859000\n",
       "612       100596000\n",
       "2408      300313000\n",
       "9039     1100070000\n",
       "Name: material, dtype: int64"
      ]
     },
     "execution_count": 81,
     "metadata": {},
     "output_type": "execute_result"
    }
   ],
   "source": [
    "main_1000region = pd.Series(firstn_1000region['material']) # Список основных товаров по региону 1000\n",
    "main_1000region.head()"
   ]
  },
  {
   "cell_type": "code",
   "execution_count": 82,
   "metadata": {},
   "outputs": [
    {
     "data": {
      "text/plain": [
       "26680    4200283000\n",
       "5892      800645000\n",
       "49023    8200172000\n",
       "50983    9500301003\n",
       "1223      200191000\n",
       "Name: material, dtype: int64"
      ]
     },
     "execution_count": 82,
     "metadata": {},
     "output_type": "execute_result"
    }
   ],
   "source": [
    "lastn_1000region = region_1000.tail(14872)\n",
    "other_1000region = pd.Series(lastn_1000region['material']) # Список сопутствующих товаров по региону 1000\n",
    "other_1000region.head()"
   ]
  },
  {
   "cell_type": "raw",
   "metadata": {},
   "source": [
    "                                                    2) org = 2000"
   ]
  },
  {
   "cell_type": "code",
   "execution_count": 83,
   "metadata": {},
   "outputs": [
    {
     "name": "stderr",
     "output_type": "stream",
     "text": [
      "<ipython-input-83-14aa1c50f4bf>:4: SettingWithCopyWarning: \n",
      "A value is trying to be set on a copy of a slice from a DataFrame.\n",
      "Try using .loc[row_indexer,col_indexer] = value instead\n",
      "\n",
      "See the caveats in the documentation: https://pandas.pydata.org/pandas-docs/stable/user_guide/indexing.html#returning-a-view-versus-a-copy\n",
      "  region_2000['part_%'] = (region_2000['rev']/region_2000['rev'].sum())*100\n"
     ]
    }
   ],
   "source": [
    "# Под кодом ИФНС = 2000 лежат данные по Чеченской Республике\n",
    "\n",
    "region_2000 = region_distribution.loc[region_distribution['org'] == 2000]\n",
    "region_2000['part_%'] = (region_2000['rev']/region_2000['rev'].sum())*100\n",
    "region_2000 = region_2000.sort_values(by='part_%', ascending=False)"
   ]
  },
  {
   "cell_type": "code",
   "execution_count": 84,
   "metadata": {},
   "outputs": [
    {
     "data": {
      "text/html": [
       "<div>\n",
       "<style scoped>\n",
       "    .dataframe tbody tr th:only-of-type {\n",
       "        vertical-align: middle;\n",
       "    }\n",
       "\n",
       "    .dataframe tbody tr th {\n",
       "        vertical-align: top;\n",
       "    }\n",
       "\n",
       "    .dataframe thead th {\n",
       "        text-align: right;\n",
       "    }\n",
       "</style>\n",
       "<table border=\"1\" class=\"dataframe\">\n",
       "  <thead>\n",
       "    <tr style=\"text-align: right;\">\n",
       "      <th></th>\n",
       "      <th>material</th>\n",
       "      <th>org</th>\n",
       "      <th>inv_qty</th>\n",
       "      <th>rev</th>\n",
       "      <th>part_%</th>\n",
       "    </tr>\n",
       "  </thead>\n",
       "  <tbody>\n",
       "    <tr>\n",
       "      <th>613</th>\n",
       "      <td>100596000</td>\n",
       "      <td>2000</td>\n",
       "      <td>42847.0</td>\n",
       "      <td>18240520.27</td>\n",
       "      <td>2.212935</td>\n",
       "    </tr>\n",
       "    <tr>\n",
       "      <th>46804</th>\n",
       "      <td>7200859000</td>\n",
       "      <td>2000</td>\n",
       "      <td>16926.0</td>\n",
       "      <td>15987434.05</td>\n",
       "      <td>1.939591</td>\n",
       "    </tr>\n",
       "    <tr>\n",
       "      <th>9040</th>\n",
       "      <td>1100070000</td>\n",
       "      <td>2000</td>\n",
       "      <td>18265.0</td>\n",
       "      <td>11030606.98</td>\n",
       "      <td>1.338230</td>\n",
       "    </tr>\n",
       "    <tr>\n",
       "      <th>1976</th>\n",
       "      <td>200777000</td>\n",
       "      <td>2000</td>\n",
       "      <td>26182.0</td>\n",
       "      <td>7895186.01</td>\n",
       "      <td>0.957842</td>\n",
       "    </tr>\n",
       "    <tr>\n",
       "      <th>41833</th>\n",
       "      <td>6200709000</td>\n",
       "      <td>2000</td>\n",
       "      <td>37262.0</td>\n",
       "      <td>7439890.41</td>\n",
       "      <td>0.902605</td>\n",
       "    </tr>\n",
       "  </tbody>\n",
       "</table>\n",
       "</div>"
      ],
      "text/plain": [
       "         material   org  inv_qty          rev    part_%\n",
       "613     100596000  2000  42847.0  18240520.27  2.212935\n",
       "46804  7200859000  2000  16926.0  15987434.05  1.939591\n",
       "9040   1100070000  2000  18265.0  11030606.98  1.338230\n",
       "1976    200777000  2000  26182.0   7895186.01  0.957842\n",
       "41833  6200709000  2000  37262.0   7439890.41  0.902605"
      ]
     },
     "execution_count": 84,
     "metadata": {},
     "output_type": "execute_result"
    }
   ],
   "source": [
    "region_2000.head()"
   ]
  },
  {
   "cell_type": "code",
   "execution_count": 85,
   "metadata": {},
   "outputs": [
    {
     "data": {
      "text/html": [
       "<div>\n",
       "<style scoped>\n",
       "    .dataframe tbody tr th:only-of-type {\n",
       "        vertical-align: middle;\n",
       "    }\n",
       "\n",
       "    .dataframe tbody tr th {\n",
       "        vertical-align: top;\n",
       "    }\n",
       "\n",
       "    .dataframe thead th {\n",
       "        text-align: right;\n",
       "    }\n",
       "</style>\n",
       "<table border=\"1\" class=\"dataframe\">\n",
       "  <thead>\n",
       "    <tr style=\"text-align: right;\">\n",
       "      <th></th>\n",
       "      <th>material</th>\n",
       "      <th>org</th>\n",
       "      <th>inv_qty</th>\n",
       "      <th>rev</th>\n",
       "      <th>part_%</th>\n",
       "      <th>comsum</th>\n",
       "    </tr>\n",
       "  </thead>\n",
       "  <tbody>\n",
       "    <tr>\n",
       "      <th>613</th>\n",
       "      <td>100596000</td>\n",
       "      <td>2000</td>\n",
       "      <td>42847.0</td>\n",
       "      <td>18240520.27</td>\n",
       "      <td>2.212935</td>\n",
       "      <td>2.212935</td>\n",
       "    </tr>\n",
       "    <tr>\n",
       "      <th>46804</th>\n",
       "      <td>7200859000</td>\n",
       "      <td>2000</td>\n",
       "      <td>16926.0</td>\n",
       "      <td>15987434.05</td>\n",
       "      <td>1.939591</td>\n",
       "      <td>4.152526</td>\n",
       "    </tr>\n",
       "    <tr>\n",
       "      <th>9040</th>\n",
       "      <td>1100070000</td>\n",
       "      <td>2000</td>\n",
       "      <td>18265.0</td>\n",
       "      <td>11030606.98</td>\n",
       "      <td>1.338230</td>\n",
       "      <td>5.490756</td>\n",
       "    </tr>\n",
       "    <tr>\n",
       "      <th>1976</th>\n",
       "      <td>200777000</td>\n",
       "      <td>2000</td>\n",
       "      <td>26182.0</td>\n",
       "      <td>7895186.01</td>\n",
       "      <td>0.957842</td>\n",
       "      <td>6.448598</td>\n",
       "    </tr>\n",
       "    <tr>\n",
       "      <th>41833</th>\n",
       "      <td>6200709000</td>\n",
       "      <td>2000</td>\n",
       "      <td>37262.0</td>\n",
       "      <td>7439890.41</td>\n",
       "      <td>0.902605</td>\n",
       "      <td>7.351203</td>\n",
       "    </tr>\n",
       "  </tbody>\n",
       "</table>\n",
       "</div>"
      ],
      "text/plain": [
       "         material   org  inv_qty          rev    part_%    comsum\n",
       "613     100596000  2000  42847.0  18240520.27  2.212935  2.212935\n",
       "46804  7200859000  2000  16926.0  15987434.05  1.939591  4.152526\n",
       "9040   1100070000  2000  18265.0  11030606.98  1.338230  5.490756\n",
       "1976    200777000  2000  26182.0   7895186.01  0.957842  6.448598\n",
       "41833  6200709000  2000  37262.0   7439890.41  0.902605  7.351203"
      ]
     },
     "execution_count": 85,
     "metadata": {},
     "output_type": "execute_result"
    }
   ],
   "source": [
    "region_2000['comsum'] = region_2000['part_%'].cumsum()\n",
    "region_2000.head()"
   ]
  },
  {
   "cell_type": "code",
   "execution_count": 141,
   "metadata": {},
   "outputs": [
    {
     "data": {
      "image/png": "[encoded data removed]",
      "text/plain": [
       "<Figure size 432x288 with 1 Axes>"
      ]
     },
     "metadata": {
      "needs_background": "light"
     },
     "output_type": "display_data"
    }
   ],
   "source": [
    "x = [i for i in range(len(region_2000))]\n",
    "plt.plot(x, region_2000['comsum'])\n",
    "plt.xlabel('Количество товара, шт')\n",
    "plt.ylabel('Накопленная сумма выручки, %')\n",
    "plt.title('org=2000')\n",
    "plt.savefig('2000_cumsum.jpg')\n",
    "\n",
    "# Видно, что % суммы выручки стремительно растет примерно до 80%, что соответствует порядка 1550 товаров."
   ]
  },
  {
   "cell_type": "code",
   "execution_count": 87,
   "metadata": {},
   "outputs": [
    {
     "data": {
      "text/plain": [
       "79.94609393589322"
      ]
     },
     "execution_count": 87,
     "metadata": {},
     "output_type": "execute_result"
    }
   ],
   "source": [
    "firstn_2000region = region_2000.head(1550) \n",
    "firstn_2000region['part_%'].sum()"
   ]
  },
  {
   "cell_type": "code",
   "execution_count": 88,
   "metadata": {},
   "outputs": [
    {
     "data": {
      "text/plain": [
       "613       100596000\n",
       "46804    7200859000\n",
       "9040     1100070000\n",
       "1976      200777000\n",
       "41833    6200709000\n",
       "Name: material, dtype: int64"
      ]
     },
     "execution_count": 88,
     "metadata": {},
     "output_type": "execute_result"
    }
   ],
   "source": [
    "main_2000region = pd.Series(firstn_2000region['material']) # Список основных товаров по региону 2000\n",
    "main_2000region.head()"
   ]
  },
  {
   "cell_type": "code",
   "execution_count": 89,
   "metadata": {},
   "outputs": [
    {
     "data": {
      "text/plain": [
       "27754    4300240000\n",
       "23409    3800389000\n",
       "1655      200492001\n",
       "12057    1500374000\n",
       "13247    1700782004\n",
       "Name: material, dtype: int64"
      ]
     },
     "execution_count": 89,
     "metadata": {},
     "output_type": "execute_result"
    }
   ],
   "source": [
    "lastn_2000region = region_2000.tail(10340)\n",
    "other_2000region = pd.Series(lastn_2000region['material']) # Список сопутствующих товаров по региону 2000\n",
    "other_2000region.head()"
   ]
  },
  {
   "cell_type": "raw",
   "metadata": {},
   "source": [
    "                                                    3) org = 3000"
   ]
  },
  {
   "cell_type": "code",
   "execution_count": 90,
   "metadata": {},
   "outputs": [
    {
     "name": "stderr",
     "output_type": "stream",
     "text": [
      "<ipython-input-90-850a024da178>:4: SettingWithCopyWarning: \n",
      "A value is trying to be set on a copy of a slice from a DataFrame.\n",
      "Try using .loc[row_indexer,col_indexer] = value instead\n",
      "\n",
      "See the caveats in the documentation: https://pandas.pydata.org/pandas-docs/stable/user_guide/indexing.html#returning-a-view-versus-a-copy\n",
      "  region_3000['part_%'] = (region_3000['rev']/region_3000['rev'].sum())*100\n"
     ]
    }
   ],
   "source": [
    "# Под кодом ИФНС = 1000 лежат данные по Астраханской области\n",
    "\n",
    "region_3000 = region_distribution.loc[region_distribution['org'] == 3000]\n",
    "region_3000['part_%'] = (region_3000['rev']/region_3000['rev'].sum())*100\n",
    "region_3000 = region_3000.sort_values(by='part_%', ascending=False)\n"
   ]
  },
  {
   "cell_type": "code",
   "execution_count": 91,
   "metadata": {},
   "outputs": [
    {
     "data": {
      "text/html": [
       "<div>\n",
       "<style scoped>\n",
       "    .dataframe tbody tr th:only-of-type {\n",
       "        vertical-align: middle;\n",
       "    }\n",
       "\n",
       "    .dataframe tbody tr th {\n",
       "        vertical-align: top;\n",
       "    }\n",
       "\n",
       "    .dataframe thead th {\n",
       "        text-align: right;\n",
       "    }\n",
       "</style>\n",
       "<table border=\"1\" class=\"dataframe\">\n",
       "  <thead>\n",
       "    <tr style=\"text-align: right;\">\n",
       "      <th></th>\n",
       "      <th>material</th>\n",
       "      <th>org</th>\n",
       "      <th>inv_qty</th>\n",
       "      <th>rev</th>\n",
       "      <th>part_%</th>\n",
       "    </tr>\n",
       "  </thead>\n",
       "  <tbody>\n",
       "    <tr>\n",
       "      <th>46805</th>\n",
       "      <td>7200859000</td>\n",
       "      <td>3000</td>\n",
       "      <td>16843.0</td>\n",
       "      <td>17782538.30</td>\n",
       "      <td>3.164290</td>\n",
       "    </tr>\n",
       "    <tr>\n",
       "      <th>614</th>\n",
       "      <td>100596000</td>\n",
       "      <td>3000</td>\n",
       "      <td>24296.0</td>\n",
       "      <td>10175193.42</td>\n",
       "      <td>1.810611</td>\n",
       "    </tr>\n",
       "    <tr>\n",
       "      <th>3540</th>\n",
       "      <td>500581000</td>\n",
       "      <td>3000</td>\n",
       "      <td>16759.0</td>\n",
       "      <td>6579654.61</td>\n",
       "      <td>1.170808</td>\n",
       "    </tr>\n",
       "    <tr>\n",
       "      <th>15100</th>\n",
       "      <td>2100828000</td>\n",
       "      <td>3000</td>\n",
       "      <td>4720.0</td>\n",
       "      <td>5124780.47</td>\n",
       "      <td>0.911922</td>\n",
       "    </tr>\n",
       "    <tr>\n",
       "      <th>3660</th>\n",
       "      <td>500753000</td>\n",
       "      <td>3000</td>\n",
       "      <td>20663.0</td>\n",
       "      <td>4993657.41</td>\n",
       "      <td>0.888590</td>\n",
       "    </tr>\n",
       "  </tbody>\n",
       "</table>\n",
       "</div>"
      ],
      "text/plain": [
       "         material   org  inv_qty          rev    part_%\n",
       "46805  7200859000  3000  16843.0  17782538.30  3.164290\n",
       "614     100596000  3000  24296.0  10175193.42  1.810611\n",
       "3540    500581000  3000  16759.0   6579654.61  1.170808\n",
       "15100  2100828000  3000   4720.0   5124780.47  0.911922\n",
       "3660    500753000  3000  20663.0   4993657.41  0.888590"
      ]
     },
     "execution_count": 91,
     "metadata": {},
     "output_type": "execute_result"
    }
   ],
   "source": [
    "region_3000.head()"
   ]
  },
  {
   "cell_type": "code",
   "execution_count": 92,
   "metadata": {},
   "outputs": [
    {
     "data": {
      "text/html": [
       "<div>\n",
       "<style scoped>\n",
       "    .dataframe tbody tr th:only-of-type {\n",
       "        vertical-align: middle;\n",
       "    }\n",
       "\n",
       "    .dataframe tbody tr th {\n",
       "        vertical-align: top;\n",
       "    }\n",
       "\n",
       "    .dataframe thead th {\n",
       "        text-align: right;\n",
       "    }\n",
       "</style>\n",
       "<table border=\"1\" class=\"dataframe\">\n",
       "  <thead>\n",
       "    <tr style=\"text-align: right;\">\n",
       "      <th></th>\n",
       "      <th>material</th>\n",
       "      <th>org</th>\n",
       "      <th>inv_qty</th>\n",
       "      <th>rev</th>\n",
       "      <th>part_%</th>\n",
       "      <th>comsum</th>\n",
       "    </tr>\n",
       "  </thead>\n",
       "  <tbody>\n",
       "    <tr>\n",
       "      <th>46805</th>\n",
       "      <td>7200859000</td>\n",
       "      <td>3000</td>\n",
       "      <td>16843.0</td>\n",
       "      <td>17782538.30</td>\n",
       "      <td>3.164290</td>\n",
       "      <td>3.164290</td>\n",
       "    </tr>\n",
       "    <tr>\n",
       "      <th>614</th>\n",
       "      <td>100596000</td>\n",
       "      <td>3000</td>\n",
       "      <td>24296.0</td>\n",
       "      <td>10175193.42</td>\n",
       "      <td>1.810611</td>\n",
       "      <td>4.974902</td>\n",
       "    </tr>\n",
       "    <tr>\n",
       "      <th>3540</th>\n",
       "      <td>500581000</td>\n",
       "      <td>3000</td>\n",
       "      <td>16759.0</td>\n",
       "      <td>6579654.61</td>\n",
       "      <td>1.170808</td>\n",
       "      <td>6.145709</td>\n",
       "    </tr>\n",
       "    <tr>\n",
       "      <th>15100</th>\n",
       "      <td>2100828000</td>\n",
       "      <td>3000</td>\n",
       "      <td>4720.0</td>\n",
       "      <td>5124780.47</td>\n",
       "      <td>0.911922</td>\n",
       "      <td>7.057632</td>\n",
       "    </tr>\n",
       "    <tr>\n",
       "      <th>3660</th>\n",
       "      <td>500753000</td>\n",
       "      <td>3000</td>\n",
       "      <td>20663.0</td>\n",
       "      <td>4993657.41</td>\n",
       "      <td>0.888590</td>\n",
       "      <td>7.946221</td>\n",
       "    </tr>\n",
       "  </tbody>\n",
       "</table>\n",
       "</div>"
      ],
      "text/plain": [
       "         material   org  inv_qty          rev    part_%    comsum\n",
       "46805  7200859000  3000  16843.0  17782538.30  3.164290  3.164290\n",
       "614     100596000  3000  24296.0  10175193.42  1.810611  4.974902\n",
       "3540    500581000  3000  16759.0   6579654.61  1.170808  6.145709\n",
       "15100  2100828000  3000   4720.0   5124780.47  0.911922  7.057632\n",
       "3660    500753000  3000  20663.0   4993657.41  0.888590  7.946221"
      ]
     },
     "execution_count": 92,
     "metadata": {},
     "output_type": "execute_result"
    }
   ],
   "source": [
    "region_3000['comsum'] = region_3000['part_%'].cumsum()\n",
    "region_3000.head()"
   ]
  },
  {
   "cell_type": "code",
   "execution_count": 142,
   "metadata": {},
   "outputs": [
    {
     "data": {
      "image/png": "[encoded data removed]",
      "text/plain": [
       "<Figure size 432x288 with 1 Axes>"
      ]
     },
     "metadata": {
      "needs_background": "light"
     },
     "output_type": "display_data"
    }
   ],
   "source": [
    "x = [i for i in range(len(region_3000))]\n",
    "plt.plot(x, region_3000['comsum'])\n",
    "plt.xlabel('Количество товара, шт')\n",
    "plt.ylabel('Накопленная сумма выручки, %')\n",
    "plt.title('org = 3000')\n",
    "plt.savefig('3000_cumsum.jpg')\n",
    "\n",
    "# Видно, что % суммы выручки стремительно растет примерно до 80%, что соответствует порядка 1350 товаров."
   ]
  },
  {
   "cell_type": "code",
   "execution_count": 94,
   "metadata": {},
   "outputs": [
    {
     "data": {
      "text/plain": [
       "80.0884302329733"
      ]
     },
     "execution_count": 94,
     "metadata": {},
     "output_type": "execute_result"
    }
   ],
   "source": [
    "firstn_3000region = region_3000.head(1350) \n",
    "firstn_3000region['part_%'].sum()\n"
   ]
  },
  {
   "cell_type": "code",
   "execution_count": 95,
   "metadata": {},
   "outputs": [
    {
     "data": {
      "text/plain": [
       "46805    7200859000\n",
       "614       100596000\n",
       "3540      500581000\n",
       "15100    2100828000\n",
       "3660      500753000\n",
       "Name: material, dtype: int64"
      ]
     },
     "execution_count": 95,
     "metadata": {},
     "output_type": "execute_result"
    }
   ],
   "source": [
    "main_3000region = pd.Series(firstn_3000region['material']) # Список основных товаров по региону 3000\n",
    "main_3000region.head()"
   ]
  },
  {
   "cell_type": "code",
   "execution_count": 96,
   "metadata": {},
   "outputs": [
    {
     "data": {
      "text/plain": [
       "42186    6300804000\n",
       "4952      700403000\n",
       "39676    5800718000\n",
       "40562    5900870001\n",
       "24229    4000312000\n",
       "Name: material, dtype: int64"
      ]
     },
     "execution_count": 96,
     "metadata": {},
     "output_type": "execute_result"
    }
   ],
   "source": [
    "lastn_3000region = region_3000.tail(10033)\n",
    "other_3000region = pd.Series(lastn_3000region['material']) # Список сопутствующих товаров по региону 3000\n",
    "other_3000region.head()"
   ]
  },
  {
   "cell_type": "raw",
   "metadata": {},
   "source": [
    "                                                       4) org = 4001"
   ]
  },
  {
   "cell_type": "code",
   "execution_count": 97,
   "metadata": {},
   "outputs": [
    {
     "name": "stderr",
     "output_type": "stream",
     "text": [
      "<ipython-input-97-9d5009fde8ce>:4: SettingWithCopyWarning: \n",
      "A value is trying to be set on a copy of a slice from a DataFrame.\n",
      "Try using .loc[row_indexer,col_indexer] = value instead\n",
      "\n",
      "See the caveats in the documentation: https://pandas.pydata.org/pandas-docs/stable/user_guide/indexing.html#returning-a-view-versus-a-copy\n",
      "  region_4001['part_%'] = (region_4001['rev']/region_4001['rev'].sum())*100\n"
     ]
    }
   ],
   "source": [
    "# Под кодом ИФНС = 4001 лежат данные по Калужской области\n",
    "\n",
    "region_4001 = region_distribution.loc[region_distribution['org'] == 4001]\n",
    "region_4001['part_%'] = (region_4001['rev']/region_4001['rev'].sum())*100\n",
    "region_4001 = region_4001.sort_values(by='part_%', ascending=False)"
   ]
  },
  {
   "cell_type": "code",
   "execution_count": 98,
   "metadata": {},
   "outputs": [
    {
     "data": {
      "text/html": [
       "<div>\n",
       "<style scoped>\n",
       "    .dataframe tbody tr th:only-of-type {\n",
       "        vertical-align: middle;\n",
       "    }\n",
       "\n",
       "    .dataframe tbody tr th {\n",
       "        vertical-align: top;\n",
       "    }\n",
       "\n",
       "    .dataframe thead th {\n",
       "        text-align: right;\n",
       "    }\n",
       "</style>\n",
       "<table border=\"1\" class=\"dataframe\">\n",
       "  <thead>\n",
       "    <tr style=\"text-align: right;\">\n",
       "      <th></th>\n",
       "      <th>material</th>\n",
       "      <th>org</th>\n",
       "      <th>inv_qty</th>\n",
       "      <th>rev</th>\n",
       "      <th>part_%</th>\n",
       "    </tr>\n",
       "  </thead>\n",
       "  <tbody>\n",
       "    <tr>\n",
       "      <th>23263</th>\n",
       "      <td>3800046000</td>\n",
       "      <td>4001</td>\n",
       "      <td>10812.000</td>\n",
       "      <td>3103734.52</td>\n",
       "      <td>2.132934</td>\n",
       "    </tr>\n",
       "    <tr>\n",
       "      <th>22707</th>\n",
       "      <td>3600751001</td>\n",
       "      <td>4001</td>\n",
       "      <td>4278.082</td>\n",
       "      <td>3034643.62</td>\n",
       "      <td>2.085454</td>\n",
       "    </tr>\n",
       "    <tr>\n",
       "      <th>4454</th>\n",
       "      <td>600968000</td>\n",
       "      <td>4001</td>\n",
       "      <td>7941.000</td>\n",
       "      <td>2536920.47</td>\n",
       "      <td>1.743411</td>\n",
       "    </tr>\n",
       "    <tr>\n",
       "      <th>9042</th>\n",
       "      <td>1100070000</td>\n",
       "      <td>4001</td>\n",
       "      <td>3135.000</td>\n",
       "      <td>1652392.33</td>\n",
       "      <td>1.135550</td>\n",
       "    </tr>\n",
       "    <tr>\n",
       "      <th>3541</th>\n",
       "      <td>500581000</td>\n",
       "      <td>4001</td>\n",
       "      <td>4279.000</td>\n",
       "      <td>1627145.31</td>\n",
       "      <td>1.118199</td>\n",
       "    </tr>\n",
       "  </tbody>\n",
       "</table>\n",
       "</div>"
      ],
      "text/plain": [
       "         material   org    inv_qty         rev    part_%\n",
       "23263  3800046000  4001  10812.000  3103734.52  2.132934\n",
       "22707  3600751001  4001   4278.082  3034643.62  2.085454\n",
       "4454    600968000  4001   7941.000  2536920.47  1.743411\n",
       "9042   1100070000  4001   3135.000  1652392.33  1.135550\n",
       "3541    500581000  4001   4279.000  1627145.31  1.118199"
      ]
     },
     "execution_count": 98,
     "metadata": {},
     "output_type": "execute_result"
    }
   ],
   "source": [
    "region_4001.head()"
   ]
  },
  {
   "cell_type": "code",
   "execution_count": 99,
   "metadata": {},
   "outputs": [
    {
     "data": {
      "text/html": [
       "<div>\n",
       "<style scoped>\n",
       "    .dataframe tbody tr th:only-of-type {\n",
       "        vertical-align: middle;\n",
       "    }\n",
       "\n",
       "    .dataframe tbody tr th {\n",
       "        vertical-align: top;\n",
       "    }\n",
       "\n",
       "    .dataframe thead th {\n",
       "        text-align: right;\n",
       "    }\n",
       "</style>\n",
       "<table border=\"1\" class=\"dataframe\">\n",
       "  <thead>\n",
       "    <tr style=\"text-align: right;\">\n",
       "      <th></th>\n",
       "      <th>material</th>\n",
       "      <th>org</th>\n",
       "      <th>inv_qty</th>\n",
       "      <th>rev</th>\n",
       "      <th>part_%</th>\n",
       "      <th>comsum</th>\n",
       "    </tr>\n",
       "  </thead>\n",
       "  <tbody>\n",
       "    <tr>\n",
       "      <th>23263</th>\n",
       "      <td>3800046000</td>\n",
       "      <td>4001</td>\n",
       "      <td>10812.000</td>\n",
       "      <td>3103734.52</td>\n",
       "      <td>2.132934</td>\n",
       "      <td>2.132934</td>\n",
       "    </tr>\n",
       "    <tr>\n",
       "      <th>22707</th>\n",
       "      <td>3600751001</td>\n",
       "      <td>4001</td>\n",
       "      <td>4278.082</td>\n",
       "      <td>3034643.62</td>\n",
       "      <td>2.085454</td>\n",
       "      <td>4.218389</td>\n",
       "    </tr>\n",
       "    <tr>\n",
       "      <th>4454</th>\n",
       "      <td>600968000</td>\n",
       "      <td>4001</td>\n",
       "      <td>7941.000</td>\n",
       "      <td>2536920.47</td>\n",
       "      <td>1.743411</td>\n",
       "      <td>5.961800</td>\n",
       "    </tr>\n",
       "    <tr>\n",
       "      <th>9042</th>\n",
       "      <td>1100070000</td>\n",
       "      <td>4001</td>\n",
       "      <td>3135.000</td>\n",
       "      <td>1652392.33</td>\n",
       "      <td>1.135550</td>\n",
       "      <td>7.097349</td>\n",
       "    </tr>\n",
       "    <tr>\n",
       "      <th>3541</th>\n",
       "      <td>500581000</td>\n",
       "      <td>4001</td>\n",
       "      <td>4279.000</td>\n",
       "      <td>1627145.31</td>\n",
       "      <td>1.118199</td>\n",
       "      <td>8.215549</td>\n",
       "    </tr>\n",
       "  </tbody>\n",
       "</table>\n",
       "</div>"
      ],
      "text/plain": [
       "         material   org    inv_qty         rev    part_%    comsum\n",
       "23263  3800046000  4001  10812.000  3103734.52  2.132934  2.132934\n",
       "22707  3600751001  4001   4278.082  3034643.62  2.085454  4.218389\n",
       "4454    600968000  4001   7941.000  2536920.47  1.743411  5.961800\n",
       "9042   1100070000  4001   3135.000  1652392.33  1.135550  7.097349\n",
       "3541    500581000  4001   4279.000  1627145.31  1.118199  8.215549"
      ]
     },
     "execution_count": 99,
     "metadata": {},
     "output_type": "execute_result"
    }
   ],
   "source": [
    "region_4001['comsum'] = region_4001['part_%'].cumsum()\n",
    "region_4001.head()"
   ]
  },
  {
   "cell_type": "code",
   "execution_count": 138,
   "metadata": {},
   "outputs": [
    {
     "data": {
      "image/png": "[encoded data removed]",
      "text/plain": [
       "<Figure size 432x288 with 1 Axes>"
      ]
     },
     "metadata": {
      "needs_background": "light"
     },
     "output_type": "display_data"
    }
   ],
   "source": [
    "x = [i for i in range(len(region_4001))]\n",
    "plt.plot(x, region_4001['comsum'])\n",
    "plt.xlabel('Количество товара, шт')\n",
    "plt.ylabel('Накопленная сумма выручки, %')\n",
    "plt.title('org = 4001')\n",
    "plt.savefig('4001_cumsum.jpg')\n",
    "\n",
    "# Видно, что % суммы выручки стремительно растет примерно до 80%, что соответствует порядка 800 товарам."
   ]
  },
  {
   "cell_type": "code",
   "execution_count": 101,
   "metadata": {},
   "outputs": [
    {
     "data": {
      "text/plain": [
       "80.0237618406292"
      ]
     },
     "execution_count": 101,
     "metadata": {},
     "output_type": "execute_result"
    }
   ],
   "source": [
    "firstn_4001region = region_4001.head(800) \n",
    "firstn_4001region['part_%'].sum()"
   ]
  },
  {
   "cell_type": "code",
   "execution_count": 102,
   "metadata": {},
   "outputs": [
    {
     "data": {
      "text/plain": [
       "23263    3800046000\n",
       "22707    3600751001\n",
       "4454      600968000\n",
       "9042     1100070000\n",
       "3541      500581000\n",
       "Name: material, dtype: int64"
      ]
     },
     "execution_count": 102,
     "metadata": {},
     "output_type": "execute_result"
    }
   ],
   "source": [
    "main_4001region = pd.Series(firstn_4001region['material']) # Список основных товаров по региону 4001\n",
    "main_4001region.head()"
   ]
  },
  {
   "cell_type": "code",
   "execution_count": 103,
   "metadata": {},
   "outputs": [
    {
     "data": {
      "text/plain": [
       "8384     1000166000\n",
       "6744      900309001\n",
       "10544    1300443001\n",
       "17451    2700864000\n",
       "10415    1300173001\n",
       "Name: material, dtype: int64"
      ]
     },
     "execution_count": 103,
     "metadata": {},
     "output_type": "execute_result"
    }
   ],
   "source": [
    "lastn_4001region = region_4001.tail(6402)\n",
    "other_4001region = pd.Series(lastn_4001region['material']) # Список сопутствующих товаров по региону 4001\n",
    "other_4001region.head()"
   ]
  },
  {
   "cell_type": "raw",
   "metadata": {},
   "source": [
    "                                                    5) org = 7000"
   ]
  },
  {
   "cell_type": "code",
   "execution_count": 104,
   "metadata": {},
   "outputs": [
    {
     "name": "stderr",
     "output_type": "stream",
     "text": [
      "<ipython-input-104-dded2047c007>:4: SettingWithCopyWarning: \n",
      "A value is trying to be set on a copy of a slice from a DataFrame.\n",
      "Try using .loc[row_indexer,col_indexer] = value instead\n",
      "\n",
      "See the caveats in the documentation: https://pandas.pydata.org/pandas-docs/stable/user_guide/indexing.html#returning-a-view-versus-a-copy\n",
      "  region_7000['part_%'] = (region_7000['rev']/region_7000['rev'].sum())*100\n"
     ]
    }
   ],
   "source": [
    "# Под кодом ИФНС = 7000 лежат данные по Томскй области\n",
    "\n",
    "region_7000 = region_distribution.loc[region_distribution['org'] == 7000]\n",
    "region_7000['part_%'] = (region_7000['rev']/region_7000['rev'].sum())*100\n",
    "region_7000 = region_7000.sort_values(by='part_%', ascending=False)"
   ]
  },
  {
   "cell_type": "code",
   "execution_count": 105,
   "metadata": {},
   "outputs": [
    {
     "data": {
      "text/html": [
       "<div>\n",
       "<style scoped>\n",
       "    .dataframe tbody tr th:only-of-type {\n",
       "        vertical-align: middle;\n",
       "    }\n",
       "\n",
       "    .dataframe tbody tr th {\n",
       "        vertical-align: top;\n",
       "    }\n",
       "\n",
       "    .dataframe thead th {\n",
       "        text-align: right;\n",
       "    }\n",
       "</style>\n",
       "<table border=\"1\" class=\"dataframe\">\n",
       "  <thead>\n",
       "    <tr style=\"text-align: right;\">\n",
       "      <th></th>\n",
       "      <th>material</th>\n",
       "      <th>org</th>\n",
       "      <th>inv_qty</th>\n",
       "      <th>rev</th>\n",
       "      <th>part_%</th>\n",
       "    </tr>\n",
       "  </thead>\n",
       "  <tbody>\n",
       "    <tr>\n",
       "      <th>46807</th>\n",
       "      <td>7200859000</td>\n",
       "      <td>7000</td>\n",
       "      <td>6846.0</td>\n",
       "      <td>7897109.93</td>\n",
       "      <td>5.711839</td>\n",
       "    </tr>\n",
       "    <tr>\n",
       "      <th>37305</th>\n",
       "      <td>5600429000</td>\n",
       "      <td>7000</td>\n",
       "      <td>14964.0</td>\n",
       "      <td>6029647.58</td>\n",
       "      <td>4.361137</td>\n",
       "    </tr>\n",
       "    <tr>\n",
       "      <th>32375</th>\n",
       "      <td>5000270001</td>\n",
       "      <td>7000</td>\n",
       "      <td>3002.0</td>\n",
       "      <td>3429671.81</td>\n",
       "      <td>2.480620</td>\n",
       "    </tr>\n",
       "    <tr>\n",
       "      <th>15102</th>\n",
       "      <td>2100828000</td>\n",
       "      <td>7000</td>\n",
       "      <td>1606.0</td>\n",
       "      <td>2465832.85</td>\n",
       "      <td>1.783493</td>\n",
       "    </tr>\n",
       "    <tr>\n",
       "      <th>32373</th>\n",
       "      <td>5000269001</td>\n",
       "      <td>7000</td>\n",
       "      <td>2210.0</td>\n",
       "      <td>2425081.99</td>\n",
       "      <td>1.754019</td>\n",
       "    </tr>\n",
       "  </tbody>\n",
       "</table>\n",
       "</div>"
      ],
      "text/plain": [
       "         material   org  inv_qty         rev    part_%\n",
       "46807  7200859000  7000   6846.0  7897109.93  5.711839\n",
       "37305  5600429000  7000  14964.0  6029647.58  4.361137\n",
       "32375  5000270001  7000   3002.0  3429671.81  2.480620\n",
       "15102  2100828000  7000   1606.0  2465832.85  1.783493\n",
       "32373  5000269001  7000   2210.0  2425081.99  1.754019"
      ]
     },
     "execution_count": 105,
     "metadata": {},
     "output_type": "execute_result"
    }
   ],
   "source": [
    "region_7000.head()"
   ]
  },
  {
   "cell_type": "code",
   "execution_count": 106,
   "metadata": {},
   "outputs": [
    {
     "data": {
      "text/html": [
       "<div>\n",
       "<style scoped>\n",
       "    .dataframe tbody tr th:only-of-type {\n",
       "        vertical-align: middle;\n",
       "    }\n",
       "\n",
       "    .dataframe tbody tr th {\n",
       "        vertical-align: top;\n",
       "    }\n",
       "\n",
       "    .dataframe thead th {\n",
       "        text-align: right;\n",
       "    }\n",
       "</style>\n",
       "<table border=\"1\" class=\"dataframe\">\n",
       "  <thead>\n",
       "    <tr style=\"text-align: right;\">\n",
       "      <th></th>\n",
       "      <th>material</th>\n",
       "      <th>org</th>\n",
       "      <th>inv_qty</th>\n",
       "      <th>rev</th>\n",
       "      <th>part_%</th>\n",
       "      <th>comsum</th>\n",
       "    </tr>\n",
       "  </thead>\n",
       "  <tbody>\n",
       "    <tr>\n",
       "      <th>46807</th>\n",
       "      <td>7200859000</td>\n",
       "      <td>7000</td>\n",
       "      <td>6846.0</td>\n",
       "      <td>7897109.93</td>\n",
       "      <td>5.711839</td>\n",
       "      <td>5.711839</td>\n",
       "    </tr>\n",
       "    <tr>\n",
       "      <th>37305</th>\n",
       "      <td>5600429000</td>\n",
       "      <td>7000</td>\n",
       "      <td>14964.0</td>\n",
       "      <td>6029647.58</td>\n",
       "      <td>4.361137</td>\n",
       "      <td>10.072975</td>\n",
       "    </tr>\n",
       "    <tr>\n",
       "      <th>32375</th>\n",
       "      <td>5000270001</td>\n",
       "      <td>7000</td>\n",
       "      <td>3002.0</td>\n",
       "      <td>3429671.81</td>\n",
       "      <td>2.480620</td>\n",
       "      <td>12.553596</td>\n",
       "    </tr>\n",
       "    <tr>\n",
       "      <th>15102</th>\n",
       "      <td>2100828000</td>\n",
       "      <td>7000</td>\n",
       "      <td>1606.0</td>\n",
       "      <td>2465832.85</td>\n",
       "      <td>1.783493</td>\n",
       "      <td>14.337089</td>\n",
       "    </tr>\n",
       "    <tr>\n",
       "      <th>32373</th>\n",
       "      <td>5000269001</td>\n",
       "      <td>7000</td>\n",
       "      <td>2210.0</td>\n",
       "      <td>2425081.99</td>\n",
       "      <td>1.754019</td>\n",
       "      <td>16.091107</td>\n",
       "    </tr>\n",
       "  </tbody>\n",
       "</table>\n",
       "</div>"
      ],
      "text/plain": [
       "         material   org  inv_qty         rev    part_%     comsum\n",
       "46807  7200859000  7000   6846.0  7897109.93  5.711839   5.711839\n",
       "37305  5600429000  7000  14964.0  6029647.58  4.361137  10.072975\n",
       "32375  5000270001  7000   3002.0  3429671.81  2.480620  12.553596\n",
       "15102  2100828000  7000   1606.0  2465832.85  1.783493  14.337089\n",
       "32373  5000269001  7000   2210.0  2425081.99  1.754019  16.091107"
      ]
     },
     "execution_count": 106,
     "metadata": {},
     "output_type": "execute_result"
    }
   ],
   "source": [
    "region_7000['comsum'] = region_7000['part_%'].cumsum()\n",
    "region_7000.head()"
   ]
  },
  {
   "cell_type": "code",
   "execution_count": 143,
   "metadata": {
    "scrolled": true
   },
   "outputs": [
    {
     "data": {
      "image/png": "[encoded data removed]",
      "text/plain": [
       "<Figure size 432x288 with 1 Axes>"
      ]
     },
     "metadata": {
      "needs_background": "light"
     },
     "output_type": "display_data"
    }
   ],
   "source": [
    "x = [i for i in range(len(region_7000))]\n",
    "plt.plot(x, region_7000['comsum'])\n",
    "plt.xlabel('Количество товара, шт')\n",
    "plt.ylabel('Накопленная сумма выручки, %')\n",
    "plt.title('org = 7000')\n",
    "plt.savefig('7000_cumsum.jpg')\n",
    "\n",
    "# Видно, что % суммы выручки стремительно растет примерно до 80%, что соответствует порядка 320 товарам."
   ]
  },
  {
   "cell_type": "code",
   "execution_count": 108,
   "metadata": {},
   "outputs": [
    {
     "data": {
      "text/plain": [
       "80.25419931563181"
      ]
     },
     "execution_count": 108,
     "metadata": {},
     "output_type": "execute_result"
    }
   ],
   "source": [
    "firstn_7000region = region_7000.head(320) \n",
    "firstn_7000region['part_%'].sum()"
   ]
  },
  {
   "cell_type": "code",
   "execution_count": 137,
   "metadata": {},
   "outputs": [
    {
     "data": {
      "text/plain": [
       "46807    7200859000\n",
       "37305    5600429000\n",
       "32375    5000270001\n",
       "15102    2100828000\n",
       "32373    5000269001\n",
       "Name: material, dtype: int64"
      ]
     },
     "execution_count": 137,
     "metadata": {},
     "output_type": "execute_result"
    }
   ],
   "source": [
    "main_7000region = pd.Series(firstn_7000region['material']) # Список основных товаров по региону 7000\n",
    "main_7000region.head()"
   ]
  },
  {
   "cell_type": "code",
   "execution_count": 136,
   "metadata": {},
   "outputs": [
    {
     "data": {
      "text/plain": [
       "50104    8800046000\n",
       "48556    7900807003\n",
       "5240      700706000\n",
       "40846    6000137000\n",
       "50846    9200771003\n",
       "Name: material, dtype: int64"
      ]
     },
     "execution_count": 136,
     "metadata": {},
     "output_type": "execute_result"
    }
   ],
   "source": [
    "lastn_7000region = region_7000.tail(3656)\n",
    "other_7000region = pd.Series(lastn_7000region['material']) # Список сопутствующих товаров по региону 7000\n",
    "other_7000region.head()"
   ]
  },
  {
   "cell_type": "code",
   "execution_count": null,
   "metadata": {},
   "outputs": [],
   "source": []
  },
  {
   "cell_type": "raw",
   "metadata": {},
   "source": [
    "                                                    Итого получил:"
   ]
  },
  {
   "cell_type": "raw",
   "metadata": {},
   "source": [
    "Вся выборка:\n",
    "    основные товары: main_all\n",
    "    сопутствующие товары: other_all\n",
    "\n",
    "Разбивка по регионам:\n",
    "    org = 1000:\n",
    "        основные товары: main_1000region\n",
    "        сопутствующие товары: other_1000region\n",
    "    \n",
    "    org = 2000:\n",
    "        основные товары: main_2000region\n",
    "        сопутствующие товары: other_2000region\n",
    "    \n",
    "    org = 3000:\n",
    "        основные товары: main_3000region\n",
    "        сопутствующие товары: other_3000region\n",
    "    \n",
    "    org = 4001:\n",
    "        основные товары: main_4001region\n",
    "        сопутствующие товары: other_4001region\n",
    "    \n",
    "    org = 7000:\n",
    "        основные товары: main_7000region\n",
    "        сопутствующие товары: other_7000region\n"
   ]
  }
 ],
 "metadata": {
  "kernelspec": {
   "display_name": "Python 3",
   "language": "python",
   "name": "python3"
  },
  "language_info": {
   "codemirror_mode": {
    "name": "ipython",
    "version": 3
   },
   "file_extension": ".py",
   "mimetype": "text/x-python",
   "name": "python",
   "nbconvert_exporter": "python",
   "pygments_lexer": "ipython3",
   "version": "3.8.5"
  }
 },
 "nbformat": 4,
 "nbformat_minor": 4
}
